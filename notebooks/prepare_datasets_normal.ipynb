{
 "cells": [
  {
   "cell_type": "markdown",
   "metadata": {},
   "source": []
  },
  {
   "cell_type": "code",
   "execution_count": 1,
   "metadata": {},
   "outputs": [
    {
     "name": "stderr",
     "output_type": "stream",
     "text": [
      "/var/folders/1z/0p630gzs7zv8cgz4xtmr08pr0000gn/T/ipykernel_4527/4047733874.py:4: DeprecationWarning: \n",
      "Pyarrow will become a required dependency of pandas in the next major release of pandas (pandas 3.0),\n",
      "(to allow more performant data types, such as the Arrow string type, and better interoperability with other libraries)\n",
      "but was not found to be installed on your system.\n",
      "If this would cause problems for you,\n",
      "please provide us feedback at https://github.com/pandas-dev/pandas/issues/54466\n",
      "        \n",
      "  import pandas as pd\n"
     ]
    },
    {
     "name": "stdout",
     "output_type": "stream",
     "text": [
      "/Users/matte/Documents/RESEARCH/PyTorch-Lightning-template/notebooks\n"
     ]
    }
   ],
   "source": [
    "import numpy as np\n",
    "import cv2\n",
    "import os\n",
    "import pandas as pd\n",
    "from PIL import Image\n",
    "import h5py\n",
    "import matplotlib.pyplot as plt\n",
    "from scipy import io\n",
    "from time import time\n",
    "import sys\n",
    "from sklearn.model_selection import train_test_split\n",
    "from helper_functions.data import write_h5, read_h5_numpy\n",
    "from typing import List, Optional\n",
    "import requests\n",
    "import io\n",
    "import gzip\n",
    "import shutil\n",
    "from tqdm import tqdm \n",
    "from pathlib import Path\n",
    "from torch.utils.data import DataLoader\n",
    "print(os.getcwd())"
   ]
  },
  {
   "cell_type": "code",
   "execution_count": 2,
   "metadata": {},
   "outputs": [
    {
     "name": "stdout",
     "output_type": "stream",
     "text": [
      " Downloading and extracting train images ...\n",
      " Downloading and extracting train labels ...\n",
      " Downloading and extracting test images ...\n",
      " Downloading and extracting test labels ...\n"
     ]
    }
   ],
   "source": [
    "\n",
    "def download_dataset(\n",
    "        url, \n",
    "        chunk_size=128,\n",
    "        labels = False):\n",
    "    try:\n",
    "        r = requests.get(url, stream=True)\n",
    "    except:\n",
    "        r = requests.get(url, stream=True, verify=False)\n",
    "\n",
    "    if labels == False:\n",
    "        out = np.frombuffer(\n",
    "            gzip.decompress(r.content), \n",
    "            dtype=np.uint8,\n",
    "            offset=16)\n",
    "        out = out.reshape(int(out.shape[0]/784), 784)\n",
    "    else:\n",
    "        out = np.frombuffer(\n",
    "            gzip.decompress(r.content), \n",
    "            dtype=np.uint8,\n",
    "            offset=8)\n",
    "            \n",
    "    \n",
    "    # imgpath = gzip.open('tmp.gz', 'rb')\n",
    "    # imgpath.read()\n",
    "\n",
    "    # if labels == False:\n",
    "    #     with gzip.open('tmp.gz', 'rb') as imgpath:\n",
    "    #         out = np.frombuffer(\n",
    "    #             imgpath.read(), \n",
    "    #             dtype=np.uint8,\n",
    "    #             offset=16)\n",
    "    #     out = out.reshape(int(out.shape[0]/784), 784)\n",
    "    # else:\n",
    "    #     with gzip.open('tmp.gz', 'rb') as imgpath:\n",
    "    #         out = np.frombuffer(\n",
    "    #             imgpath.read(), \n",
    "    #             dtype=np.uint8,\n",
    "    #             offset=8)\n",
    "        \n",
    "    # os.remove('tmp.gz')\n",
    "        \n",
    "    return out\n",
    "\n",
    "\n",
    "### Train dataset\n",
    "print(' Downloading and extracting train images ...')\n",
    "images_train = download_dataset(\n",
    "    url = \"http://fashion-mnist.s3-website.eu-central-1.amazonaws.com/train-images-idx3-ubyte.gz\"\n",
    ")\n",
    "\n",
    "print(' Downloading and extracting train labels ...')\n",
    "labels_train = download_dataset(\n",
    "    url = \"http://fashion-mnist.s3-website.eu-central-1.amazonaws.com/train-labels-idx1-ubyte.gz\",\n",
    "    labels = True\n",
    ")\n",
    "\n",
    "\n",
    "### Test dataset\n",
    "print(' Downloading and extracting test images ...')\n",
    "images_test = download_dataset(\n",
    "    url = \"http://fashion-mnist.s3-website.eu-central-1.amazonaws.com/t10k-images-idx3-ubyte.gz\"\n",
    ")\n",
    "\n",
    "print(' Downloading and extracting test labels ...')\n",
    "labels_test = download_dataset(\n",
    "    url = \"http://fashion-mnist.s3-website.eu-central-1.amazonaws.com/t10k-labels-idx1-ubyte.gz\",\n",
    "    labels = True\n",
    ")\n",
    "\n"
   ]
  },
  {
   "cell_type": "code",
   "execution_count": 3,
   "metadata": {},
   "outputs": [],
   "source": [
    "def reshape_and_resize_images(\n",
    "        X : np.ndarray,\n",
    "        new_dims : Optional[List] = None,\n",
    "        ) -> np.ndarray:\n",
    "    \n",
    "    dims = X.shape\n",
    "    dims = [int(x) for x in [dims[0], np.sqrt(dims[1]), np.sqrt(dims[1])]]\n",
    "    X = X.reshape(dims).astype(np.uint8)\n",
    "\n",
    "    if new_dims is not None:\n",
    "\n",
    "        X_proc = np.zeros((\n",
    "            X.shape[0],\n",
    "            new_dims[0],\n",
    "            new_dims[1]),\n",
    "            np.uint8)\n",
    "\n",
    "        print('Resizing images ...')\n",
    "        for i in range(X.shape[0]):\n",
    "            if i/10000 == i//10000:\n",
    "                print('   -> Step {} of {}'.format(i,X.shape[0]))\n",
    "            x = X[i,...]\n",
    "            if new_dims != x.shape[0]:\n",
    "                x = cv2.resize(\n",
    "                    x.astype(np.uint8), \n",
    "                    dsize=(new_dims[0],new_dims[1]), \n",
    "                    interpolation=cv2.INTER_CUBIC\n",
    "                    )\n",
    "            X_proc[i,...] = x\n",
    "\n",
    "        print('Done resizing!')\n",
    "\n",
    "    else:\n",
    "        X_proc = X\n",
    "\n",
    "    return X_proc"
   ]
  },
  {
   "cell_type": "code",
   "execution_count": 4,
   "metadata": {},
   "outputs": [
    {
     "name": "stdout",
     "output_type": "stream",
     "text": [
      "Processing key: X, dims: (51000, 28, 28), size: 39.98MB\n",
      "Processing key: y, dims: (51000,), size: 0.05MB\n",
      " -> DonE! Elapsed time: 0.192s, final size: 25.87MB\n",
      "Processing key: X, dims: (9000, 28, 28), size: 7.06MB\n",
      "Processing key: y, dims: (9000,), size: 0.01MB\n",
      " -> DonE! Elapsed time: 0.031s, final size: 4.72MB\n"
     ]
    }
   ],
   "source": [
    "\n",
    "X_proc = reshape_and_resize_images(images_train)\n",
    "\n",
    "###\n",
    "X_train, X_val, y_train, y_val = train_test_split(\n",
    "    X_proc,labels_train,\n",
    "    test_size=.15,\n",
    "    shuffle=True,\n",
    "    random_state=42\n",
    ")\n",
    "\n",
    "dict_train = {\n",
    "    'X' : X_train,\n",
    "    'y' : y_train,\n",
    "}\n",
    "\n",
    "dict_val = {\n",
    "    'X' : X_val,\n",
    "    'y' : y_val,\n",
    "}\n",
    "\n",
    "verbose = True\n",
    "\n",
    "write_h5(\n",
    "    data = dict_train,\n",
    "    filename='../data/fashion-mnist_{}x{}_train'.format(X_proc.shape[1], X_proc.shape[2]),\n",
    "    dtype=np.uint8,\n",
    "    verbose = True\n",
    "    )\n",
    "\n",
    "write_h5(\n",
    "    data = dict_val,\n",
    "    filename='../data/fashion-mnist_{}x{}_val'.format(X_proc.shape[1], X_proc.shape[2]),\n",
    "    dtype=np.uint8,\n",
    "    verbose = True\n",
    "    )"
   ]
  },
  {
   "cell_type": "code",
   "execution_count": 5,
   "metadata": {},
   "outputs": [
    {
     "name": "stdout",
     "output_type": "stream",
     "text": [
      "Processing key: X, dims: (10000, 28, 28), size: 7.84MB\n",
      "Processing key: y, dims: (10000,), size: 0.00MB\n",
      " -> DonE! Elapsed time: 0.038s, final size: 3.42MB\n"
     ]
    }
   ],
   "source": [
    "X_proc = reshape_and_resize_images(images_test)\n",
    "\n",
    "###\n",
    "dict_test = {\n",
    "    'X' : X_proc,\n",
    "    'y' : labels_test,\n",
    "}\n",
    "\n",
    "verbose = True\n",
    "\n",
    "write_h5(\n",
    "    data = dict_test,\n",
    "    filename='../data/fashion-mnist_{}x{}_test'.format(X_proc.shape[1], X_proc.shape[2]),\n",
    "    dtype=np.int8,\n",
    "    verbose = verbose\n",
    "    )\n",
    "\n"
   ]
  },
  {
   "cell_type": "code",
   "execution_count": 6,
   "metadata": {},
   "outputs": [],
   "source": [
    "def touch_dir(dir_path: str) -> None:\n",
    "    \"\"\"\n",
    "    Create dir if not exist\n",
    "    :param dir_path: directory path\n",
    "    \"\"\"\n",
    "    Path(dir_path).mkdir(parents=True, exist_ok=True)\n",
    "\n",
    "def batch_and_save_data(data,filename,batch_size):\n",
    "    touch_dir(filename)\n",
    "\n",
    "    batch_indices = DataLoader(\n",
    "        np.arange(data['y'].shape[0]),\n",
    "        batch_size = batch_size,\n",
    "        shuffle = True,\n",
    "        drop_last = True,\n",
    "    )\n",
    "\n",
    "\n",
    "    for i, indices in enumerate(tqdm(\n",
    "        batch_indices, \n",
    "        total=len(batch_indices), \n",
    "        miniters=len(batch_indices)//10)\n",
    "        ):\n",
    "        # print('Saving training batch {} of {}'.format(\n",
    "        #     i, len(dataset)\n",
    "        # ))\n",
    "        write_h5(\n",
    "            data = {\n",
    "                'X' : data['X'][indices, ...], \n",
    "                'y' : data['y'][indices, ...]},\n",
    "            filename=filename + '/batch_{}'.format(i),\n",
    "            dtype=np.float32,\n",
    "            verbose = False,\n",
    "            chunk_1st_dim = 1\n",
    "            )\n"
   ]
  },
  {
   "cell_type": "code",
   "execution_count": 7,
   "metadata": {},
   "outputs": [
    {
     "name": "stdout",
     "output_type": "stream",
     "text": [
      " Saving train dataset in batches ...\n"
     ]
    },
    {
     "name": "stderr",
     "output_type": "stream",
     "text": [
      "  0%|          | 0/796 [00:00<?, ?it/s]"
     ]
    },
    {
     "name": "stderr",
     "output_type": "stream",
     "text": [
      "100%|██████████| 796/796 [00:00<00:00, 1067.48it/s]\n"
     ]
    },
    {
     "name": "stdout",
     "output_type": "stream",
     "text": [
      " Saving val dataset in batches ...\n"
     ]
    },
    {
     "name": "stderr",
     "output_type": "stream",
     "text": [
      "100%|██████████| 140/140 [00:00<00:00, 1086.56it/s]\n"
     ]
    },
    {
     "name": "stdout",
     "output_type": "stream",
     "text": [
      " Saving test dataset in batches ...\n"
     ]
    },
    {
     "name": "stderr",
     "output_type": "stream",
     "text": [
      "100%|██████████| 156/156 [00:00<00:00, 1129.37it/s]\n"
     ]
    }
   ],
   "source": [
    "### Save batched dataset\n",
    "batch_size = 64\n",
    "\n",
    "print(' Saving train dataset in batches ...')\n",
    "batch_and_save_data(\n",
    "    data = dict_train, \n",
    "    filename = '../data/fashion-mnist-original/train/',\n",
    "    batch_size = batch_size\n",
    "    )\n",
    "\n",
    "print(' Saving val dataset in batches ...')\n",
    "batch_and_save_data(\n",
    "    data = dict_val, \n",
    "    filename = '../data/fashion-mnist-original/val/',\n",
    "    batch_size = batch_size\n",
    "    )\n",
    "\n",
    "### Save batched dataset\n",
    "print(' Saving test dataset in batches ...')\n",
    "batch_and_save_data(\n",
    "    data = dict_test, \n",
    "    filename = '../data/fashion-mnist-original/test/',\n",
    "    batch_size = batch_size\n",
    "    )\n",
    "\n"
   ]
  },
  {
   "cell_type": "code",
   "execution_count": 8,
   "metadata": {},
   "outputs": [
    {
     "data": {
      "image/png": "[encoded data removed]",
      "text/plain": [
       "<Figure size 640x480 with 1 Axes>"
      ]
     },
     "metadata": {},
     "output_type": "display_data"
    }
   ],
   "source": [
    "data_load = read_h5_numpy(\n",
    "    filename='../data/fashion-mnist_{}x{}_train.h5'.format(X_proc.shape[1], X_proc.shape[2])\n",
    ")\n",
    "\n",
    "ind = 1000\n",
    "# ind = 1001\n",
    "\n",
    "plt.imshow(data_load['X'][ind,:,:])\n",
    "plt.show()\n"
   ]
  }
 ],
 "metadata": {
  "kernelspec": {
   "display_name": "test-panorama",
   "language": "python",
   "name": "python3"
  },
  "language_info": {
   "codemirror_mode": {
    "name": "ipython",
    "version": 3
   },
   "file_extension": ".py",
   "mimetype": "text/x-python",
   "name": "python",
   "nbconvert_exporter": "python",
   "pygments_lexer": "ipython3",
   "version": "3.9.0"
  }
 },
 "nbformat": 4,
 "nbformat_minor": 2
}
