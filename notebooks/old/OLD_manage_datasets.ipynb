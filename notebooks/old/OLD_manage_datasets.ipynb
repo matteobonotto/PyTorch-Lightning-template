{
 "cells": [
  {
   "cell_type": "code",
   "execution_count": 1,
   "metadata": {},
   "outputs": [
    {
     "name": "stderr",
     "output_type": "stream",
     "text": [
      "/var/folders/1z/0p630gzs7zv8cgz4xtmr08pr0000gn/T/ipykernel_15247/1983437158.py:2: DeprecationWarning: \n",
      "Pyarrow will become a required dependency of pandas in the next major release of pandas (pandas 3.0),\n",
      "(to allow more performant data types, such as the Arrow string type, and better interoperability with other libraries)\n",
      "but was not found to be installed on your system.\n",
      "If this would cause problems for you,\n",
      "please provide us feedback at https://github.com/pandas-dev/pandas/issues/54466\n",
      "        \n",
      "  import pandas as pd\n"
     ]
    }
   ],
   "source": [
    "import numpy as np\n",
    "import pandas as pd\n",
    "from sklearn.model_selection import train_test_split\n",
    "from helper_functions.data import write_h5, read_h5_numpy"
   ]
  },
  {
   "cell_type": "code",
   "execution_count": 2,
   "metadata": {},
   "outputs": [],
   "source": [
    "path = '../data/fashion-mnist/fashion-mnist_train.csv'\n",
    "data = pd.read_csv(path, low_memory=False).to_numpy()\n",
    "\n",
    "X,y = data[:,1:], data[:,0]\n",
    "dims = X.shape\n",
    "dims = [int(x) for x in [dims[0], np.sqrt(dims[1]), np.sqrt(dims[1])]]\n",
    "X = X.reshape(dims).astype(np.int8)\n"
   ]
  },
  {
   "cell_type": "code",
   "execution_count": 3,
   "metadata": {},
   "outputs": [],
   "source": [
    "X_train, X_val, y_train, y_val = train_test_split(\n",
    "    X,y,\n",
    "    test_size=.15,\n",
    "    shuffle=True,\n",
    "    random_state=42\n",
    ")\n",
    "\n",
    "dict_train = {\n",
    "    'X' : X_train,\n",
    "    'y' : y_train,\n",
    "}\n",
    "\n",
    "dict_val = {\n",
    "    'X' : X_val,\n",
    "    'y' : y_val,\n",
    "}"
   ]
  },
  {
   "cell_type": "code",
   "execution_count": 5,
   "metadata": {},
   "outputs": [
    {
     "name": "stdout",
     "output_type": "stream",
     "text": [
      "Processing key: X, dims: (51000, 28, 28), size: 39.98MB\n",
      "Processing key: y, dims: (51000,), size: 0.41MB\n",
      " -> DonE! Elapsed time: 0.264s, final size: 25.88MB\n",
      "Processing key: X, dims: (9000, 28, 28), size: 7.06MB\n",
      "Processing key: y, dims: (9000,), size: 0.07MB\n",
      " -> DonE! Elapsed time: 0.042s, final size: 4.72MB\n"
     ]
    }
   ],
   "source": [
    "verbose = True\n",
    "\n",
    "write_h5(\n",
    "    data = dict_train,\n",
    "    filename='../data/fashion-mnist/fashion-mnist_train',\n",
    "    dtype=np.int8,\n",
    "    verbose = verbose\n",
    "    )\n",
    "\n",
    "write_h5(\n",
    "    data = dict_val,\n",
    "    filename='../data/fashion-mnist/fashion-mnist_val',\n",
    "    dtype=np.int8,\n",
    "    verbose = verbose\n",
    "    )"
   ]
  },
  {
   "cell_type": "code",
   "execution_count": 7,
   "metadata": {},
   "outputs": [
    {
     "name": "stdout",
     "output_type": "stream",
     "text": [
      "Processing key: X, dims: (10000, 28, 28), size: 7.84MB\n",
      "Processing key: y, dims: (10000,), size: 0.00MB\n",
      " -> DonE! Elapsed time: 0.051s, final size: 5.22MB\n"
     ]
    }
   ],
   "source": [
    "###\n",
    "path = '../data/fashion-mnist/fashion-mnist_test.csv'\n",
    "data = pd.read_csv(path, low_memory=False).to_numpy()\n",
    "\n",
    "X,y = data[:,1:], data[:,0]\n",
    "dims = X.shape\n",
    "dims = [int(x) for x in [dims[0], np.sqrt(dims[1]), np.sqrt(dims[1])]]\n",
    "X = X.reshape(dims).astype(np.int8)\n",
    "\n",
    "###\n",
    "dict_test = {\n",
    "    'X' : X,\n",
    "    'y' : y,\n",
    "}\n",
    "\n",
    "###\n",
    "verbose = True\n",
    "write_h5(\n",
    "    data = dict_test,\n",
    "    filename='../data/fashion-mnist/fashion-mnist_test',\n",
    "    dtype=np.int8,\n",
    "    verbose = verbose\n",
    "    )"
   ]
  },
  {
   "cell_type": "code",
   "execution_count": null,
   "metadata": {},
   "outputs": [],
   "source": []
  }
 ],
 "metadata": {
  "kernelspec": {
   "display_name": "lightning-template",
   "language": "python",
   "name": "python3"
  },
  "language_info": {
   "codemirror_mode": {
    "name": "ipython",
    "version": 3
   },
   "file_extension": ".py",
   "mimetype": "text/x-python",
   "name": "python",
   "nbconvert_exporter": "python",
   "pygments_lexer": "ipython3",
   "version": "3.9.0"
  }
 },
 "nbformat": 4,
 "nbformat_minor": 2
}
