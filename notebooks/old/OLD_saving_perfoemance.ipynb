{
 "cells": [
  {
   "cell_type": "code",
   "execution_count": 1,
   "metadata": {},
   "outputs": [
    {
     "name": "stdout",
     "output_type": "stream",
     "text": [
      "/Users/matte/Library/CloudStorage/GoogleDrive-matteobonotto90@gmail.com/Other computers/Dell Eni/Prove/PyTorch-Lightning-template/notebooks\n"
     ]
    }
   ],
   "source": [
    "import numpy as np\n",
    "import os\n",
    "import sys\n",
    "import h5py\n",
    "from scipy import io\n",
    "from time import time\n",
    "print(os.getcwd())"
   ]
  },
  {
   "cell_type": "code",
   "execution_count": 11,
   "metadata": {},
   "outputs": [
    {
     "name": "stdout",
     "output_type": "stream",
     "text": [
      "3.010560144\n"
     ]
    }
   ],
   "source": [
    "fac = 4\n",
    "dtype = 'float32'\n",
    "# X = np.ones((60000,28*fac,28*fac)).astype(dtype=dtype)\n",
    "X = np.random.random((60000,28*fac,28*fac)).astype(dtype=dtype)\n",
    "print('{:}'.format(sys.getsizeof(X)/1e+9))\n",
    "\n",
    "try:\n",
    "    os.mkdir('./save_test/')\n",
    "except:\n",
    "    None\n",
    "filesave = './save_test/file'\n",
    "\n",
    "mdict = {'X':X}"
   ]
  },
  {
   "cell_type": "code",
   "execution_count": 14,
   "metadata": {},
   "outputs": [
    {
     "name": "stdout",
     "output_type": "stream",
     "text": [
      "(512, 112, 112)\n",
      "Done saving in 11.149976253509521s, size 0.014701189\n",
      "Done reading in 5.744109869003296s\n"
     ]
    }
   ],
   "source": [
    "### h5py\n",
    "if os.path.isfile(filesave + '.h5'):\n",
    "    os.remove(filesave + '.h5')\n",
    "\n",
    "# Saving\n",
    "t_start = time()\n",
    "compression = \"gzip\" #lzf # gzip\n",
    "with h5py.File(filesave + '.h5', 'w') as hf:\n",
    "    dset = hf.create_dataset(\n",
    "        'X', data=X,\n",
    "        shape=X.shape,\n",
    "        chunks=(512,28*fac,28*fac),\n",
    "        dtype=dtype,\n",
    "        compression=compression, \n",
    "        compression_opts = 1\n",
    "        )\n",
    "    print(dset.chunks)\n",
    "hf.close()\n",
    "\n",
    "print('Done saving in {}s, size {}'.format(\n",
    "    time() - t_start,\n",
    "    os. stat(filesave + '.h5').st_size/1e+9\n",
    "    ))\n",
    "\n",
    "\n",
    "# Reading\n",
    "t_start = time()\n",
    "with h5py.File(filesave + '.h5', 'r') as hf:\n",
    "    X  = np.zeros(hf['X'].shape,dtype=dtype)\n",
    "    hf['X'].read_direct(X)\n",
    "    # X = hf['X'][()]\n",
    "\n",
    "print('Done reading in {}s'.format(\n",
    "    time() - t_start))\n"
   ]
  },
  {
   "cell_type": "code",
   "execution_count": 4,
   "metadata": {},
   "outputs": [
    {
     "name": "stdout",
     "output_type": "stream",
     "text": [
      "Done in 4.335500001907349s, size 1.505280192\n"
     ]
    }
   ],
   "source": [
    "### .mat\n",
    "if os.path.isfile(filesave + '.mat'):\n",
    "    os.remove(filesave + '.mat')\n",
    "    \n",
    "t_start = time()\n",
    "io.savemat(filesave + '.mat',mdict)\n",
    "\n",
    "print('Done in {}s, size {}'.format(\n",
    "    time() - t_start,\n",
    "    os. stat(filesave + '.mat').st_size/1e+9\n",
    "    ))\n",
    "    "
   ]
  },
  {
   "cell_type": "code",
   "execution_count": null,
   "metadata": {},
   "outputs": [],
   "source": []
  }
 ],
 "metadata": {
  "kernelspec": {
   "display_name": "lightning-template",
   "language": "python",
   "name": "python3"
  },
  "language_info": {
   "codemirror_mode": {
    "name": "ipython",
    "version": 3
   },
   "file_extension": ".py",
   "mimetype": "text/x-python",
   "name": "python",
   "nbconvert_exporter": "python",
   "pygments_lexer": "ipython3",
   "version": "3.9.0"
  }
 },
 "nbformat": 4,
 "nbformat_minor": 2
}
